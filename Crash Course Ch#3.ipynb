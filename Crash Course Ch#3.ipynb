{
 "cells": [
  {
   "cell_type": "markdown",
   "id": "fc6e55ce",
   "metadata": {},
   "source": [
    "List\n"
   ]
  },
  {
   "cell_type": "code",
   "execution_count": 2,
   "id": "d1d04bd9",
   "metadata": {},
   "outputs": [],
   "source": [
    "list=[\"different list\", \"new list\",\"defining list\"]"
   ]
  },
  {
   "cell_type": "code",
   "execution_count": 5,
   "id": "df9fb660",
   "metadata": {},
   "outputs": [
    {
     "name": "stdout",
     "output_type": "stream",
     "text": [
      "different list\n",
      "Different List\n"
     ]
    }
   ],
   "source": [
    "print(list[0])\n",
    "print(list[0].title())"
   ]
  },
  {
   "cell_type": "code",
   "execution_count": 7,
   "id": "a1a49621",
   "metadata": {},
   "outputs": [
    {
     "name": "stdout",
     "output_type": "stream",
     "text": [
      "new list\n",
      "defining list\n"
     ]
    }
   ],
   "source": [
    "print(list[1])\n",
    "print(list[2])"
   ]
  },
  {
   "cell_type": "code",
   "execution_count": 10,
   "id": "9cefd19c",
   "metadata": {},
   "outputs": [
    {
     "name": "stdout",
     "output_type": "stream",
     "text": [
      "i am learning listand and DEFINING LIST\n"
     ]
    }
   ],
   "source": [
    "message= \"i am learning listand and \"+ list[2].upper()\n",
    "print(message)"
   ]
  },
  {
   "cell_type": "code",
   "execution_count": 26,
   "id": "35d14429",
   "metadata": {},
   "outputs": [
    {
     "name": "stdout",
     "output_type": "stream",
     "text": [
      "Syed\n",
      "Masaab\n",
      "ahmed\n",
      "Minhaj\n",
      "zayn\n",
      "Hello, my good friend Syed\n"
     ]
    }
   ],
   "source": [
    "#try yourself\n",
    "#3.1\n",
    "names=[\"Syed\",\"Masaab\",\"ahmed\",\"Minhaj\",\"zayn\"]\n",
    "print(names[0])\n",
    "print(names[1])\n",
    "print(names[2])\n",
    "print(names[3])\n",
    "print(names[4])\n",
    "print(\"Hello, my good friend {}\".format(names[0]))\n",
    "\n"
   ]
  },
  {
   "cell_type": "code",
   "execution_count": 28,
   "id": "83858650",
   "metadata": {},
   "outputs": [
    {
     "name": "stdout",
     "output_type": "stream",
     "text": [
      "Honda, is thr most loved bike in here.\n",
      "Suzuki, have top quality in motorcycles.\n",
      "Yamaha, gives class to ride it.\n"
     ]
    }
   ],
   "source": [
    "bikes = ['honda', 'suzuki', 'yamaha']\n",
    "\n",
    "name = bikes[0].title()\n",
    "print(name + \", is thr most loved bike in here.\")\n",
    "\n",
    "name = bikes[1].title()\n",
    "print(name + \", have top quality in motorcycles.\")\n",
    "\n",
    "name = bikes[2].title()\n",
    "print(name + \", gives class to ride it.\")"
   ]
  },
  {
   "cell_type": "code",
   "execution_count": 29,
   "id": "a55ffcbc",
   "metadata": {},
   "outputs": [
    {
     "data": {
      "text/plain": [
       "['honda', 'suzuki', 'yamaha']"
      ]
     },
     "execution_count": 29,
     "metadata": {},
     "output_type": "execute_result"
    }
   ],
   "source": [
    "bikes"
   ]
  },
  {
   "cell_type": "code",
   "execution_count": 30,
   "id": "179e5c35",
   "metadata": {},
   "outputs": [],
   "source": [
    "bikes.append(\"ducati\")"
   ]
  },
  {
   "cell_type": "code",
   "execution_count": 31,
   "id": "3009473e",
   "metadata": {},
   "outputs": [
    {
     "data": {
      "text/plain": [
       "['honda', 'suzuki', 'yamaha', 'ducati']"
      ]
     },
     "execution_count": 31,
     "metadata": {},
     "output_type": "execute_result"
    }
   ],
   "source": [
    "bikes"
   ]
  },
  {
   "cell_type": "code",
   "execution_count": 32,
   "id": "ca9ad12b",
   "metadata": {},
   "outputs": [
    {
     "data": {
      "text/plain": [
       "['power', 'honda', 'suzuki', 'yamaha', 'ducati']"
      ]
     },
     "execution_count": 32,
     "metadata": {},
     "output_type": "execute_result"
    }
   ],
   "source": [
    "bikes.insert(0, \"power\")\n",
    "bikes"
   ]
  },
  {
   "cell_type": "code",
   "execution_count": 33,
   "id": "d193c1e7",
   "metadata": {},
   "outputs": [
    {
     "data": {
      "text/plain": [
       "['honda', 'suzuki', 'yamaha', 'ducati']"
      ]
     },
     "execution_count": 33,
     "metadata": {},
     "output_type": "execute_result"
    }
   ],
   "source": [
    "del bikes[0]\n",
    "bikes"
   ]
  },
  {
   "cell_type": "code",
   "execution_count": 34,
   "id": "6a2240c7",
   "metadata": {},
   "outputs": [
    {
     "data": {
      "text/plain": [
       "['honda', 'suzuki', 'yamaha']"
      ]
     },
     "execution_count": 34,
     "metadata": {},
     "output_type": "execute_result"
    }
   ],
   "source": [
    "bikes.remove(\"ducati\")\n",
    "bikes"
   ]
  },
  {
   "cell_type": "code",
   "execution_count": null,
   "id": "0e257ce6",
   "metadata": {},
   "outputs": [],
   "source": [
    "guest_list=[\"Masab\",\"Ali\",\"Ahmed\",\"Zain\"]\n",
    "print(\"hello\"+)"
   ]
  }
 ],
 "metadata": {
  "kernelspec": {
   "display_name": "Python 3 (ipykernel)",
   "language": "python",
   "name": "python3"
  },
  "language_info": {
   "codemirror_mode": {
    "name": "ipython",
    "version": 3
   },
   "file_extension": ".py",
   "mimetype": "text/x-python",
   "name": "python",
   "nbconvert_exporter": "python",
   "pygments_lexer": "ipython3",
   "version": "3.9.7"
  }
 },
 "nbformat": 4,
 "nbformat_minor": 5
}
